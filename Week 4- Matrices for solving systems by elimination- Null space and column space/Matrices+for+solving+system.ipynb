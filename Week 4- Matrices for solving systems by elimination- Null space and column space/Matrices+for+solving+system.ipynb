{
 "cells": [
  {
   "cell_type": "markdown",
   "metadata": {},
   "source": [
    "## Linear system "
   ]
  },
  {
   "cell_type": "markdown",
   "metadata": {},
   "source": [
    "Solve Ax=b using inverse of A"
   ]
  },
  {
   "cell_type": "code",
   "execution_count": 8,
   "metadata": {},
   "outputs": [
    {
     "name": "stdout",
     "output_type": "stream",
     "text": [
      "[[ 60.    5.5   1. ]\n",
      " [ 65.    5.    0. ]\n",
      " [ 55.    6.    1. ]]\n",
      "[[66 70 78]]\n"
     ]
    }
   ],
   "source": [
    "from numpy import array\n",
    "A=array([[60,5.5,1],[65,5.0,0],[55,6.0,1]])\n",
    "b=array([[66,70,78]])\n",
    "print(A)\n",
    "print(b)"
   ]
  },
  {
   "cell_type": "code",
   "execution_count": 10,
   "metadata": {},
   "outputs": [
    {
     "name": "stdout",
     "output_type": "stream",
     "text": [
      "[[ -0.43478261]\n",
      " [ 19.65217391]\n",
      " [-16.        ]]\n"
     ]
    }
   ],
   "source": [
    "from numpy.linalg import inv\n",
    "x=inv(A).dot(b.T)\n",
    "print(x)"
   ]
  },
  {
   "cell_type": "markdown",
   "metadata": {},
   "source": [
    "Solve Ax=b using 'solve'"
   ]
  },
  {
   "cell_type": "code",
   "execution_count": 12,
   "metadata": {},
   "outputs": [
    {
     "name": "stdout",
     "output_type": "stream",
     "text": [
      "[[ -0.43478261]\n",
      " [ 19.65217391]\n",
      " [-16.        ]]\n"
     ]
    }
   ],
   "source": [
    "from numpy.linalg import solve\n",
    "x = solve(A,b.T)\n",
    "print(x)"
   ]
  }
 ],
 "metadata": {
  "kernelspec": {
   "display_name": "Python 3",
   "language": "python",
   "name": "python3"
  },
  "language_info": {
   "codemirror_mode": {
    "name": "ipython",
    "version": 3
   },
   "file_extension": ".py",
   "mimetype": "text/x-python",
   "name": "python",
   "nbconvert_exporter": "python",
   "pygments_lexer": "ipython3",
   "version": "3.6.3"
  }
 },
 "nbformat": 4,
 "nbformat_minor": 2
}
