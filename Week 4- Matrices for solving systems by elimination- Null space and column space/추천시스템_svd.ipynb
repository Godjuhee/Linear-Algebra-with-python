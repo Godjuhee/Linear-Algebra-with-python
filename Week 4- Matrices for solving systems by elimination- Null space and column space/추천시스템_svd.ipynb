{
 "cells": [
  {
   "cell_type": "markdown",
   "metadata": {
    "collapsed": true
   },
   "source": [
    "# Matrix Factorization\n",
    "\n",
    "## SVD를 이용한 유저와 아이템 추상화\n",
    "## 추상화된 아이템 간의 유사도 계산\n",
    "\n",
    "https://github.com/therocks/fc-rec-workshop/tree/master/movielens"
   ]
  },
  {
   "cell_type": "code",
   "execution_count": 2,
   "metadata": {
    "collapsed": true
   },
   "outputs": [],
   "source": [
    "import math\n",
    "import numpy as np\n",
    "from numpy import linalg as LA\n",
    "from scipy.sparse import coo_matrix\n",
    "from scipy.linalg import sqrtm\n",
    "import pandas as pd\n",
    "from IPython.display import HTML, display"
   ]
  },
  {
   "cell_type": "code",
   "execution_count": 3,
   "metadata": {
    "collapsed": true
   },
   "outputs": [],
   "source": [
    "np.set_printoptions(precision=2)\n",
    "pd.set_option('display.precision', 2)"
   ]
  },
  {
   "cell_type": "markdown",
   "metadata": {},
   "source": [
    "## 영화평점 데이터 "
   ]
  },
  {
   "cell_type": "code",
   "execution_count": 6,
   "metadata": {},
   "outputs": [],
   "source": [
    "movies = pd.read_csv('movies_w_imgurl.csv')"
   ]
  },
  {
   "cell_type": "code",
   "execution_count": 7,
   "metadata": {
    "collapsed": true
   },
   "outputs": [],
   "source": [
    "def displayMovies(movieIds, ratings=[]):\n",
    "    i = 0\n",
    "    html = \"\"\n",
    "    for movieId in movieIds:\n",
    "        mov = movies[movies['movieId'] == movieId].iloc[0]        \n",
    "        html += \"<div style='display:inline-block;min-width:150px;max-width:150px;vertical-align: top;'>\"\n",
    "        html += \"<img src='%s' width='120'><br/>\" % mov.imgurl\n",
    "        if i < len(ratings):\n",
    "            html += \"<span>%.4f</span><br/>\" % ratings[i]\n",
    "        html += \"%s<br/>\" % mov.title\n",
    "        if mov.genres != '':\n",
    "            ul = \"<ul>\"\n",
    "            for genre in mov.genres.split('|'):\n",
    "                ul += \"<li>%s</li>\" % genre\n",
    "            ul += \"</ul>\"\n",
    "            html += \"%s<br/>\" % ul\n",
    "        html += \"</div>\"\n",
    "        i += 1\n",
    "    display(HTML(html))"
   ]
  },
  {
   "cell_type": "code",
   "execution_count": 10,
   "metadata": {},
   "outputs": [],
   "source": [
    "ratings = pd.read_csv('ratings-9_1.csv')\n",
    "train = ratings[ratings['type'] == 'train'][['userId', 'movieId', 'rating']]\n",
    "test = ratings[ratings['type'] == 'test'][['userId', 'movieId', 'rating']]"
   ]
  },
  {
   "cell_type": "code",
   "execution_count": 11,
   "metadata": {
    "collapsed": true
   },
   "outputs": [],
   "source": [
    "movieIdToIndex = {}\n",
    "indexToMovieId = {}\n",
    "colIdx = 0\n",
    "for movieId in movies.movieId:\n",
    "    movieIdToIndex[movieId] = colIdx\n",
    "    indexToMovieId[colIdx] = movieId\n",
    "    colIdx += 1"
   ]
  },
  {
   "cell_type": "code",
   "execution_count": 22,
   "metadata": {
    "collapsed": true
   },
   "outputs": [],
   "source": [
    "userIdToIndex = {}\n",
    "indexToUserId = {}\n",
    "rowIdx = 0\n",
    "for userId in ratings.userId.unique():\n",
    "    userIdToIndex[userId] = rowIdx\n",
    "    indexToUserId[rowIdx] = userId\n",
    "    rowIdx += 1"
   ]
  },
  {
   "cell_type": "code",
   "execution_count": 23,
   "metadata": {
    "collapsed": true
   },
   "outputs": [],
   "source": [
    "rows = []\n",
    "cols = []\n",
    "vals = []\n",
    "for row in ratings.itertuples():\n",
    "    rows.append(userIdToIndex[row.userId])\n",
    "    cols.append(movieIdToIndex[row.movieId])\n",
    "    vals.append(row.rating)\n",
    "coomat = coo_matrix((vals, (rows, cols)), shape=(rowIdx, colIdx))"
   ]
  },
  {
   "cell_type": "code",
   "execution_count": 24,
   "metadata": {
    "collapsed": true
   },
   "outputs": [],
   "source": [
    "U, s, V = LA.svd(coomat.toarray(), full_matrices=False)"
   ]
  },
  {
   "cell_type": "code",
   "execution_count": 25,
   "metadata": {
    "collapsed": true
   },
   "outputs": [],
   "source": [
    "dim = 671\n",
    "sqrtS = sqrtm(np.matrix(np.diag(s[0:dim])))"
   ]
  },
  {
   "cell_type": "code",
   "execution_count": 26,
   "metadata": {
    "collapsed": true
   },
   "outputs": [],
   "source": [
    "userFeatures = np.matmul(U.compress(np.ones(dim), axis=1), sqrtS)\n",
    "itemFeatures = np.matmul(V.T.compress(np.ones(dim), axis=1), sqrtS.T)"
   ]
  },
  {
   "cell_type": "code",
   "execution_count": 27,
   "metadata": {
    "collapsed": true
   },
   "outputs": [],
   "source": [
    "itemNorms = LA.norm(itemFeatures, ord=2, axis=1)\n",
    "userNorms = LA.norm(userFeatures, ord=2, axis=1)\n"
   ]
  },
  {
   "cell_type": "code",
   "execution_count": 28,
   "metadata": {},
   "outputs": [
    {
     "name": "stderr",
     "output_type": "stream",
     "text": [
      "/anaconda/lib/python3.6/site-packages/ipykernel_launcher.py:1: RuntimeWarning: invalid value encountered in true_divide\n",
      "  \"\"\"Entry point for launching an IPython kernel.\n"
     ]
    }
   ],
   "source": [
    "normalizedItemFeatures = np.divide(itemFeatures.T, itemNorms).T\n",
    "normalizedUserFeatures = np.divide(userFeatures.T, userNorms).T"
   ]
  },
  {
   "cell_type": "code",
   "execution_count": 29,
   "metadata": {
    "collapsed": true
   },
   "outputs": [],
   "source": [
    "itemSims = pd.DataFrame(data=np.matmul(normalizedItemFeatures, normalizedItemFeatures.T), index=movies.movieId, columns=movies.movieId)\n",
    "userSims = np.matmul(normalizedUserFeatures, normalizedUserFeatures.T)"
   ]
  },
  {
   "cell_type": "code",
   "execution_count": 30,
   "metadata": {},
   "outputs": [
    {
     "data": {
      "text/html": [
       "<div style='display:inline-block;min-width:150px;max-width:150px;vertical-align: top;'><img src='https://images-na.ssl-images-amazon.com/images/M/MV5BMzk2OTg4MTk1NF5BMl5BanBnXkFtZTcwNjExNTgzNA@@._V1_UX182_CR0,0,182,268_AL_.jpg' width='120'><br/>GoldenEye (1995)<br/><ul><li>Action</li><li>Adventure</li><li>Thriller</li></ul><br/></div>"
      ],
      "text/plain": [
       "<IPython.core.display.HTML object>"
      ]
     },
     "metadata": {},
     "output_type": "display_data"
    },
    {
     "data": {
      "text/html": [
       "<div style='display:inline-block;min-width:150px;max-width:150px;vertical-align: top;'><img src='https://images-na.ssl-images-amazon.com/images/M/MV5BMzk2OTg4MTk1NF5BMl5BanBnXkFtZTcwNjExNTgzNA@@._V1_UX182_CR0,0,182,268_AL_.jpg' width='120'><br/><span>1.0000</span><br/>GoldenEye (1995)<br/><ul><li>Action</li><li>Adventure</li><li>Thriller</li></ul><br/></div><div style='display:inline-block;min-width:150px;max-width:150px;vertical-align: top;'><img src='https://images-na.ssl-images-amazon.com/images/M/MV5BZjI0ZWFiMmQtMjRlZi00ZmFhLWI4NmYtMjQ5YmY0MzIyMzRiXkEyXkFqcGdeQXVyMTQxNzMzNDI@._V1_UX182_CR0,0,182,268_AL_.jpg' width='120'><br/><span>0.2454</span><br/>Die Hard: With a Vengeance (1995)<br/><ul><li>Action</li><li>Crime</li><li>Thriller</li></ul><br/></div><div style='display:inline-block;min-width:150px;max-width:150px;vertical-align: top;'><img src='https://images-na.ssl-images-amazon.com/images/M/MV5BNjU5YmFjMjctYThkOS00MTQyLThjZmMtOWIyYzk2ZjU0ODkxXkEyXkFqcGdeQXVyMTQxNzMzNDI@._V1_UX182_CR0,0,182,268_AL_.jpg' width='120'><br/><span>0.2421</span><br/>Cliffhanger (1993)<br/><ul><li>Action</li><li>Adventure</li><li>Thriller</li></ul><br/></div><div style='display:inline-block;min-width:150px;max-width:150px;vertical-align: top;'><img src='https://images-na.ssl-images-amazon.com/images/M/MV5BNWY3M2I0YzItNzA1ZS00MzE3LThlYTEtMTg2YjNiOTYzODQ1XkEyXkFqcGdeQXVyMTQxNzMzNDI@._V1_UX182_CR0,0,182,268_AL_.jpg' width='120'><br/><span>0.2403</span><br/>Batman Forever (1995)<br/><ul><li>Action</li><li>Adventure</li><li>Comedy</li><li>Crime</li></ul><br/></div><div style='display:inline-block;min-width:150px;max-width:150px;vertical-align: top;'><img src='https://images-na.ssl-images-amazon.com/images/M/MV5BMTM1MTk2ODQxNV5BMl5BanBnXkFtZTcwOTY5MDg0NA@@._V1_UX182_CR0,0,182,268_AL_.jpg' width='120'><br/><span>0.2015</span><br/>Tomorrow Never Dies (1997)<br/><ul><li>Action</li><li>Adventure</li><li>Thriller</li></ul><br/></div><div style='display:inline-block;min-width:150px;max-width:150px;vertical-align: top;'><img src='https://images-na.ssl-images-amazon.com/images/M/MV5BNDczOWNiMmEtZjA4MS00NDMzLWExNTktYjc0MGU0YTQ3ZDExXkEyXkFqcGdeQXVyNjU0OTQ0OTY@._V1_UX182_CR0,0,182,268_AL_.jpg' width='120'><br/><span>0.1967</span><br/>Clear and Present Danger (1994)<br/><ul><li>Action</li><li>Crime</li><li>Drama</li><li>Thriller</li></ul><br/></div>"
      ],
      "text/plain": [
       "<IPython.core.display.HTML object>"
      ]
     },
     "metadata": {},
     "output_type": "display_data"
    }
   ],
   "source": [
    "movieIdx = 9\n",
    "rels = itemSims.iloc[movieIdx,:].sort_values(ascending=False).head(6)\n",
    "displayMovies([indexToMovieId[movieIdx]])\n",
    "displayMovies(rels.index, rels.values)"
   ]
  },
  {
   "cell_type": "code",
   "execution_count": null,
   "metadata": {
    "collapsed": true
   },
   "outputs": [],
   "source": []
  }
 ],
 "metadata": {
  "kernelspec": {
   "display_name": "Python 3",
   "language": "python",
   "name": "python3"
  },
  "language_info": {
   "codemirror_mode": {
    "name": "ipython",
    "version": 3
   },
   "file_extension": ".py",
   "mimetype": "text/x-python",
   "name": "python",
   "nbconvert_exporter": "python",
   "pygments_lexer": "ipython3",
   "version": "3.6.3"
  }
 },
 "nbformat": 4,
 "nbformat_minor": 2
}
